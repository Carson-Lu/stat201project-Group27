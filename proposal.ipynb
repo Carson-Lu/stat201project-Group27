{
 "cells": [
  {
   "cell_type": "markdown",
   "id": "579b6096-0ba0-425a-aab9-6055656be298",
   "metadata": {},
   "source": [
    "Project-27"
   ]
  },
  {
   "cell_type": "code",
   "execution_count": null,
   "id": "f8859861-8dd2-4c42-951f-182842293ac2",
   "metadata": {},
   "outputs": [],
   "source": [
    "Name : Muze Zhao"
   ]
  }
 ],
 "metadata": {
  "kernelspec": {
   "display_name": "R",
   "language": "R",
   "name": "ir"
  },
  "language_info": {
   "codemirror_mode": "r",
   "file_extension": ".r",
   "mimetype": "text/x-r-source",
   "name": "R",
   "pygments_lexer": "r",
   "version": "4.1.3"
  }
 },
 "nbformat": 4,
 "nbformat_minor": 5
}
