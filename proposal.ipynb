{
 "cells": [
  {
   "cell_type": "markdown",
   "id": "579b6096-0ba0-425a-aab9-6055656be298",
   "metadata": {},
   "source": [
    "# Project-27"
   ]
  },
  {
   "cell_type": "markdown",
   "id": "75c415cf-cbc2-4796-84e3-38df62850427",
   "metadata": {},
   "source": [
    "# Introduction"
   ]
  },
  {
   "cell_type": "markdown",
   "id": "c7935678-ca84-429f-9419-d5e18bd81dc2",
   "metadata": {},
   "source": []
  },
  {
   "cell_type": "markdown",
   "id": "5758ec10-f780-4c9f-8ed1-d277283365e2",
   "metadata": {},
   "source": [
    "# Preliminary Results\n"
   ]
  },
  {
   "cell_type": "markdown",
   "id": "618f955a-9af5-4e95-9536-e56fef2e0afe",
   "metadata": {},
   "source": []
  },
  {
   "cell_type": "markdown",
   "id": "426d363b-8d56-48ba-b7bd-756c47d7c9d0",
   "metadata": {},
   "source": [
    "## Required Packages"
   ]
  },
  {
   "cell_type": "code",
   "execution_count": 1,
   "id": "eaa7c4e6-373d-42c6-9964-40a455f97b89",
   "metadata": {},
   "outputs": [
    {
     "name": "stderr",
     "output_type": "stream",
     "text": [
      "── \u001b[1mAttaching packages\u001b[22m ─────────────────────────────────────── tidyverse 1.3.2 ──\n",
      "\u001b[32m✔\u001b[39m \u001b[34mggplot2\u001b[39m 3.3.6      \u001b[32m✔\u001b[39m \u001b[34mpurrr  \u001b[39m 0.3.4 \n",
      "\u001b[32m✔\u001b[39m \u001b[34mtibble \u001b[39m 3.1.8      \u001b[32m✔\u001b[39m \u001b[34mdplyr  \u001b[39m 1.0.10\n",
      "\u001b[32m✔\u001b[39m \u001b[34mtidyr  \u001b[39m 1.2.1      \u001b[32m✔\u001b[39m \u001b[34mstringr\u001b[39m 1.4.1 \n",
      "\u001b[32m✔\u001b[39m \u001b[34mreadr  \u001b[39m 2.1.2      \u001b[32m✔\u001b[39m \u001b[34mforcats\u001b[39m 0.5.2 \n",
      "── \u001b[1mConflicts\u001b[22m ────────────────────────────────────────── tidyverse_conflicts() ──\n",
      "\u001b[31m✖\u001b[39m \u001b[34mdplyr\u001b[39m::\u001b[32mfilter()\u001b[39m masks \u001b[34mstats\u001b[39m::filter()\n",
      "\u001b[31m✖\u001b[39m \u001b[34mdplyr\u001b[39m::\u001b[32mlag()\u001b[39m    masks \u001b[34mstats\u001b[39m::lag()\n"
     ]
    }
   ],
   "source": [
    "library(tidyverse)"
   ]
  },
  {
   "cell_type": "markdown",
   "id": "affb3fe6-753b-4d71-ae1c-eddb95ac2788",
   "metadata": {},
   "source": [
    "## Reading data from the web"
   ]
  },
  {
   "cell_type": "code",
   "execution_count": null,
   "id": "515bc2f2-b7bb-4cb7-8823-59a3ec973903",
   "metadata": {},
   "outputs": [],
   "source": []
  },
  {
   "cell_type": "markdown",
   "id": "8659ce67-21c9-4601-a44d-5023b943ddc4",
   "metadata": {},
   "source": [
    "## Data cleaning and wrangling"
   ]
  },
  {
   "cell_type": "code",
   "execution_count": null,
   "id": "23728c15-a552-441f-b14e-bf16680d0d2d",
   "metadata": {},
   "outputs": [],
   "source": []
  },
  {
   "cell_type": "markdown",
   "id": "5a034179-d962-4898-bd06-b8cc7b5be2c2",
   "metadata": {},
   "source": [
    "## Plots"
   ]
  },
  {
   "cell_type": "code",
   "execution_count": null,
   "id": "9a0ee47c-01f9-428b-a756-3d5a77bf95fc",
   "metadata": {},
   "outputs": [],
   "source": []
  },
  {
   "cell_type": "markdown",
   "id": "c114b861-a7b6-44c8-a5c1-a348be9dec86",
   "metadata": {},
   "source": [
    "## Compute estimates of the parameter you identified across your groups. Present this in a table. If relevant, include these estimates in your plot."
   ]
  },
  {
   "cell_type": "code",
   "execution_count": null,
   "id": "05a63508-08e2-4bb5-8637-5ed23492d43d",
   "metadata": {},
   "outputs": [],
   "source": []
  },
  {
   "cell_type": "markdown",
   "id": "792bddc2-5c42-450f-b868-41c9c0839296",
   "metadata": {},
   "source": [
    "# Methods: Plan"
   ]
  },
  {
   "cell_type": "markdown",
   "id": "5449ff0e-5665-4bf8-be57-c358d8d21f6e",
   "metadata": {},
   "source": [
    "### What do you expect to find?\n",
    "\n"
   ]
  },
  {
   "cell_type": "markdown",
   "id": "8e4b62b9-1a0b-4b1a-8e5c-ad337b56a65b",
   "metadata": {},
   "source": []
  },
  {
   "cell_type": "markdown",
   "id": "5d5a4961-2d5a-4282-95cd-6c0fabf26b1e",
   "metadata": {},
   "source": [
    "### What future questions could this lead to?"
   ]
  },
  {
   "cell_type": "markdown",
   "id": "36d6bb17-ef3e-4c28-967c-62eef4fbe444",
   "metadata": {},
   "source": []
  },
  {
   "cell_type": "markdown",
   "id": "840ced69-31de-4f38-8734-0b40c671756a",
   "metadata": {},
   "source": [
    "### What impact could such findings have?"
   ]
  },
  {
   "cell_type": "markdown",
   "id": "de5be419-d08a-4f50-b439-c269218bb2fe",
   "metadata": {},
   "source": []
  },
  {
   "cell_type": "markdown",
   "id": "61800cca-bdda-4ea9-b8fa-3fc034871606",
   "metadata": {},
   "source": [
    "# References"
   ]
  },
  {
   "cell_type": "markdown",
   "id": "0fa94357-bfe0-4925-b95f-3b05f10519cd",
   "metadata": {},
   "source": []
  },
  {
   "cell_type": "code",
   "execution_count": null,
   "id": "05e2d63d-ea32-4332-ba2c-de70e9156964",
   "metadata": {},
   "outputs": [],
   "source": []
  }
 ],
 "metadata": {
  "kernelspec": {
   "display_name": "R",
   "language": "R",
   "name": "ir"
  },
  "language_info": {
   "codemirror_mode": "r",
   "file_extension": ".r",
   "mimetype": "text/x-r-source",
   "name": "R",
   "pygments_lexer": "r",
   "version": "4.1.3"
  }
 },
 "nbformat": 4,
 "nbformat_minor": 5
}
