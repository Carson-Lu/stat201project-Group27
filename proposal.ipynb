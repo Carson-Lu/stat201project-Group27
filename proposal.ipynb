{
 "cells": [
  {
   "cell_type": "markdown",
   "id": "579b6096-0ba0-425a-aab9-6055656be298",
   "metadata": {},
   "source": [
    "# Project-27"
   ]
  },
  {
   "cell_type": "markdown",
   "id": "75c415cf-cbc2-4796-84e3-38df62850427",
   "metadata": {},
   "source": [
    "# Introduction"
   ]
  },
  {
   "cell_type": "markdown",
   "id": "c7935678-ca84-429f-9419-d5e18bd81dc2",
   "metadata": {},
   "source": []
  },
  {
   "cell_type": "markdown",
   "id": "5758ec10-f780-4c9f-8ed1-d277283365e2",
   "metadata": {},
   "source": [
    "# Preliminary Results\n"
   ]
  },
  {
   "cell_type": "markdown",
   "id": "618f955a-9af5-4e95-9536-e56fef2e0afe",
   "metadata": {},
   "source": []
  },
  {
   "cell_type": "markdown",
   "id": "426d363b-8d56-48ba-b7bd-756c47d7c9d0",
   "metadata": {},
   "source": [
    "## Required Packages"
   ]
  },
  {
   "cell_type": "code",
   "execution_count": 1,
   "id": "eaa7c4e6-373d-42c6-9964-40a455f97b89",
   "metadata": {},
   "outputs": [
    {
     "name": "stderr",
     "output_type": "stream",
     "text": [
      "── \u001b[1mAttaching packages\u001b[22m ─────────────────────────────────────── tidyverse 1.3.2 ──\n",
      "\u001b[32m✔\u001b[39m \u001b[34mggplot2\u001b[39m 3.3.6      \u001b[32m✔\u001b[39m \u001b[34mpurrr  \u001b[39m 0.3.4 \n",
      "\u001b[32m✔\u001b[39m \u001b[34mtibble \u001b[39m 3.1.8      \u001b[32m✔\u001b[39m \u001b[34mdplyr  \u001b[39m 1.0.10\n",
      "\u001b[32m✔\u001b[39m \u001b[34mtidyr  \u001b[39m 1.2.1      \u001b[32m✔\u001b[39m \u001b[34mstringr\u001b[39m 1.4.1 \n",
      "\u001b[32m✔\u001b[39m \u001b[34mreadr  \u001b[39m 2.1.2      \u001b[32m✔\u001b[39m \u001b[34mforcats\u001b[39m 0.5.2 \n",
      "── \u001b[1mConflicts\u001b[22m ────────────────────────────────────────── tidyverse_conflicts() ──\n",
      "\u001b[31m✖\u001b[39m \u001b[34mdplyr\u001b[39m::\u001b[32mfilter()\u001b[39m masks \u001b[34mstats\u001b[39m::filter()\n",
      "\u001b[31m✖\u001b[39m \u001b[34mdplyr\u001b[39m::\u001b[32mlag()\u001b[39m    masks \u001b[34mstats\u001b[39m::lag()\n"
     ]
    }
   ],
   "source": [
    "library(tidyverse)"
   ]
  },
  {
   "cell_type": "markdown",
   "id": "affb3fe6-753b-4d71-ae1c-eddb95ac2788",
   "metadata": {},
   "source": [
    "## Reading data from the web"
   ]
  },
  {
   "cell_type": "code",
   "execution_count": 2,
   "id": "515bc2f2-b7bb-4cb7-8823-59a3ec973903",
   "metadata": {},
   "outputs": [
    {
     "name": "stderr",
     "output_type": "stream",
     "text": [
      "\u001b[1mRows: \u001b[22m\u001b[34m482\u001b[39m \u001b[1mColumns: \u001b[22m\u001b[34m10\u001b[39m\n",
      "\u001b[36m──\u001b[39m \u001b[1mColumn specification\u001b[22m \u001b[36m────────────────────────────────────────────────────────\u001b[39m\n",
      "\u001b[1mDelimiter:\u001b[22m \",\"\n",
      "\u001b[31mchr\u001b[39m (3): TYPE, HUNDRED_BLOCK, NEIGHBOURHOOD\n",
      "\u001b[32mdbl\u001b[39m (7): YEAR, MONTH, DAY, HOUR, MINUTE, X, Y\n",
      "\n",
      "\u001b[36mℹ\u001b[39m Use `spec()` to retrieve the full column specification for this data.\n",
      "\u001b[36mℹ\u001b[39m Specify the column types or set `show_col_types = FALSE` to quiet this message.\n",
      "\u001b[1mRows: \u001b[22m\u001b[34m946\u001b[39m \u001b[1mColumns: \u001b[22m\u001b[34m10\u001b[39m\n",
      "\u001b[36m──\u001b[39m \u001b[1mColumn specification\u001b[22m \u001b[36m────────────────────────────────────────────────────────\u001b[39m\n",
      "\u001b[1mDelimiter:\u001b[22m \",\"\n",
      "\u001b[31mchr\u001b[39m (3): TYPE, HUNDRED_BLOCK, NEIGHBOURHOOD\n",
      "\u001b[32mdbl\u001b[39m (7): YEAR, MONTH, DAY, HOUR, MINUTE, X, Y\n",
      "\n",
      "\u001b[36mℹ\u001b[39m Use `spec()` to retrieve the full column specification for this data.\n",
      "\u001b[36mℹ\u001b[39m Specify the column types or set `show_col_types = FALSE` to quiet this message.\n",
      "\u001b[1mRows: \u001b[22m\u001b[34m238\u001b[39m \u001b[1mColumns: \u001b[22m\u001b[34m10\u001b[39m\n",
      "\u001b[36m──\u001b[39m \u001b[1mColumn specification\u001b[22m \u001b[36m────────────────────────────────────────────────────────\u001b[39m\n",
      "\u001b[1mDelimiter:\u001b[22m \",\"\n",
      "\u001b[31mchr\u001b[39m (3): TYPE, HUNDRED_BLOCK, NEIGHBOURHOOD\n",
      "\u001b[32mdbl\u001b[39m (7): YEAR, MONTH, DAY, HOUR, MINUTE, X, Y\n",
      "\n",
      "\u001b[36mℹ\u001b[39m Use `spec()` to retrieve the full column specification for this data.\n",
      "\u001b[36mℹ\u001b[39m Specify the column types or set `show_col_types = FALSE` to quiet this message.\n",
      "\u001b[1mRows: \u001b[22m\u001b[34m165\u001b[39m \u001b[1mColumns: \u001b[22m\u001b[34m10\u001b[39m\n",
      "\u001b[36m──\u001b[39m \u001b[1mColumn specification\u001b[22m \u001b[36m────────────────────────────────────────────────────────\u001b[39m\n",
      "\u001b[1mDelimiter:\u001b[22m \",\"\n",
      "\u001b[31mchr\u001b[39m (3): TYPE, HUNDRED_BLOCK, NEIGHBOURHOOD\n",
      "\u001b[32mdbl\u001b[39m (7): YEAR, MONTH, DAY, HOUR, MINUTE, X, Y\n",
      "\n",
      "\u001b[36mℹ\u001b[39m Use `spec()` to retrieve the full column specification for this data.\n",
      "\u001b[36mℹ\u001b[39m Specify the column types or set `show_col_types = FALSE` to quiet this message.\n"
     ]
    }
   ],
   "source": [
    "hastings_2023 <- read_csv(\"https://raw.githubusercontent.com/Carson-Lu/stat201project-Group27/main/crimedata_csv_Hastings-Sunrise_2023.csv\")\n",
    "hastings_2022 <- read_csv(\"https://raw.githubusercontent.com/Carson-Lu/stat201project-Group27/main/crimedata_csv_Hastings-Sunrise_2022.csv\")\n",
    "west_point_grey_2022 <- read_csv(\"https://raw.githubusercontent.com/Carson-Lu/stat201project-Group27/main/crimedata_csv_West%20Point%20Grey_2022.csv\")\n",
    "west_point_grey_2023 <- read_csv(\"https://raw.githubusercontent.com/Carson-Lu/stat201project-Group27/main/crimedata_csv_West%20Point%20Grey_2023.csv\")"
   ]
  },
  {
   "cell_type": "code",
   "execution_count": 6,
   "id": "03d5e8bc-0f7d-493e-b6a4-bbf2d4cd4cfa",
   "metadata": {},
   "outputs": [
    {
     "data": {
      "text/html": [
       "<table class=\"dataframe\">\n",
       "<caption>A tibble: 6 × 10</caption>\n",
       "<thead>\n",
       "\t<tr><th scope=col>TYPE</th><th scope=col>YEAR</th><th scope=col>MONTH</th><th scope=col>DAY</th><th scope=col>HOUR</th><th scope=col>MINUTE</th><th scope=col>HUNDRED_BLOCK</th><th scope=col>NEIGHBOURHOOD</th><th scope=col>X</th><th scope=col>Y</th></tr>\n",
       "\t<tr><th scope=col>&lt;chr&gt;</th><th scope=col>&lt;dbl&gt;</th><th scope=col>&lt;dbl&gt;</th><th scope=col>&lt;dbl&gt;</th><th scope=col>&lt;dbl&gt;</th><th scope=col>&lt;dbl&gt;</th><th scope=col>&lt;chr&gt;</th><th scope=col>&lt;chr&gt;</th><th scope=col>&lt;dbl&gt;</th><th scope=col>&lt;dbl&gt;</th></tr>\n",
       "</thead>\n",
       "<tbody>\n",
       "\t<tr><td>Theft from Vehicle</td><td>2023</td><td>3</td><td> 2</td><td>16</td><td> 0</td><td>11XX NOOTKA ST  </td><td>Hastings-Sunrise</td><td>496992.1</td><td>5457928</td></tr>\n",
       "\t<tr><td>Theft from Vehicle</td><td>2023</td><td>4</td><td>13</td><td>10</td><td>59</td><td>12XX KAMLOOPS ST</td><td>Hastings-Sunrise</td><td>496017.8</td><td>5457847</td></tr>\n",
       "\t<tr><td>Theft from Vehicle</td><td>2023</td><td>2</td><td>28</td><td> 0</td><td> 0</td><td>12XX NOOTKA ST  </td><td>Hastings-Sunrise</td><td>496992.2</td><td>5457899</td></tr>\n",
       "\t<tr><td>Theft from Vehicle</td><td>2023</td><td>2</td><td> 3</td><td> 2</td><td>20</td><td>14XX RENFREW ST </td><td>Hastings-Sunrise</td><td>496790.2</td><td>5457683</td></tr>\n",
       "\t<tr><td>Theft from Vehicle</td><td>2023</td><td>1</td><td>30</td><td> 2</td><td>11</td><td>16XX LILLOOET ST</td><td>Hastings-Sunrise</td><td>497162.8</td><td>5457456</td></tr>\n",
       "\t<tr><td>Theft from Vehicle</td><td>2023</td><td>4</td><td>13</td><td>22</td><td>30</td><td>16XX NANAIMO ST </td><td>Hastings-Sunrise</td><td>495887.3</td><td>5457516</td></tr>\n",
       "</tbody>\n",
       "</table>\n"
      ],
      "text/latex": [
       "A tibble: 6 × 10\n",
       "\\begin{tabular}{llllllllll}\n",
       " TYPE & YEAR & MONTH & DAY & HOUR & MINUTE & HUNDRED\\_BLOCK & NEIGHBOURHOOD & X & Y\\\\\n",
       " <chr> & <dbl> & <dbl> & <dbl> & <dbl> & <dbl> & <chr> & <chr> & <dbl> & <dbl>\\\\\n",
       "\\hline\n",
       "\t Theft from Vehicle & 2023 & 3 &  2 & 16 &  0 & 11XX NOOTKA ST   & Hastings-Sunrise & 496992.1 & 5457928\\\\\n",
       "\t Theft from Vehicle & 2023 & 4 & 13 & 10 & 59 & 12XX KAMLOOPS ST & Hastings-Sunrise & 496017.8 & 5457847\\\\\n",
       "\t Theft from Vehicle & 2023 & 2 & 28 &  0 &  0 & 12XX NOOTKA ST   & Hastings-Sunrise & 496992.2 & 5457899\\\\\n",
       "\t Theft from Vehicle & 2023 & 2 &  3 &  2 & 20 & 14XX RENFREW ST  & Hastings-Sunrise & 496790.2 & 5457683\\\\\n",
       "\t Theft from Vehicle & 2023 & 1 & 30 &  2 & 11 & 16XX LILLOOET ST & Hastings-Sunrise & 497162.8 & 5457456\\\\\n",
       "\t Theft from Vehicle & 2023 & 4 & 13 & 22 & 30 & 16XX NANAIMO ST  & Hastings-Sunrise & 495887.3 & 5457516\\\\\n",
       "\\end{tabular}\n"
      ],
      "text/markdown": [
       "\n",
       "A tibble: 6 × 10\n",
       "\n",
       "| TYPE &lt;chr&gt; | YEAR &lt;dbl&gt; | MONTH &lt;dbl&gt; | DAY &lt;dbl&gt; | HOUR &lt;dbl&gt; | MINUTE &lt;dbl&gt; | HUNDRED_BLOCK &lt;chr&gt; | NEIGHBOURHOOD &lt;chr&gt; | X &lt;dbl&gt; | Y &lt;dbl&gt; |\n",
       "|---|---|---|---|---|---|---|---|---|---|\n",
       "| Theft from Vehicle | 2023 | 3 |  2 | 16 |  0 | 11XX NOOTKA ST   | Hastings-Sunrise | 496992.1 | 5457928 |\n",
       "| Theft from Vehicle | 2023 | 4 | 13 | 10 | 59 | 12XX KAMLOOPS ST | Hastings-Sunrise | 496017.8 | 5457847 |\n",
       "| Theft from Vehicle | 2023 | 2 | 28 |  0 |  0 | 12XX NOOTKA ST   | Hastings-Sunrise | 496992.2 | 5457899 |\n",
       "| Theft from Vehicle | 2023 | 2 |  3 |  2 | 20 | 14XX RENFREW ST  | Hastings-Sunrise | 496790.2 | 5457683 |\n",
       "| Theft from Vehicle | 2023 | 1 | 30 |  2 | 11 | 16XX LILLOOET ST | Hastings-Sunrise | 497162.8 | 5457456 |\n",
       "| Theft from Vehicle | 2023 | 4 | 13 | 22 | 30 | 16XX NANAIMO ST  | Hastings-Sunrise | 495887.3 | 5457516 |\n",
       "\n"
      ],
      "text/plain": [
       "  TYPE               YEAR MONTH DAY HOUR MINUTE HUNDRED_BLOCK   \n",
       "1 Theft from Vehicle 2023 3      2  16    0     11XX NOOTKA ST  \n",
       "2 Theft from Vehicle 2023 4     13  10   59     12XX KAMLOOPS ST\n",
       "3 Theft from Vehicle 2023 2     28   0    0     12XX NOOTKA ST  \n",
       "4 Theft from Vehicle 2023 2      3   2   20     14XX RENFREW ST \n",
       "5 Theft from Vehicle 2023 1     30   2   11     16XX LILLOOET ST\n",
       "6 Theft from Vehicle 2023 4     13  22   30     16XX NANAIMO ST \n",
       "  NEIGHBOURHOOD    X        Y      \n",
       "1 Hastings-Sunrise 496992.1 5457928\n",
       "2 Hastings-Sunrise 496017.8 5457847\n",
       "3 Hastings-Sunrise 496992.2 5457899\n",
       "4 Hastings-Sunrise 496790.2 5457683\n",
       "5 Hastings-Sunrise 497162.8 5457456\n",
       "6 Hastings-Sunrise 495887.3 5457516"
      ]
     },
     "metadata": {},
     "output_type": "display_data"
    },
    {
     "data": {
      "text/html": [
       "<table class=\"dataframe\">\n",
       "<caption>A tibble: 6 × 10</caption>\n",
       "<thead>\n",
       "\t<tr><th scope=col>TYPE</th><th scope=col>YEAR</th><th scope=col>MONTH</th><th scope=col>DAY</th><th scope=col>HOUR</th><th scope=col>MINUTE</th><th scope=col>HUNDRED_BLOCK</th><th scope=col>NEIGHBOURHOOD</th><th scope=col>X</th><th scope=col>Y</th></tr>\n",
       "\t<tr><th scope=col>&lt;chr&gt;</th><th scope=col>&lt;dbl&gt;</th><th scope=col>&lt;dbl&gt;</th><th scope=col>&lt;dbl&gt;</th><th scope=col>&lt;dbl&gt;</th><th scope=col>&lt;dbl&gt;</th><th scope=col>&lt;chr&gt;</th><th scope=col>&lt;chr&gt;</th><th scope=col>&lt;dbl&gt;</th><th scope=col>&lt;dbl&gt;</th></tr>\n",
       "</thead>\n",
       "<tbody>\n",
       "\t<tr><td>Theft from Vehicle</td><td>2022</td><td> 5</td><td>16</td><td> 4</td><td>20</td><td>11XX NOOTKA ST  </td><td>Hastings-Sunrise</td><td>496992.1</td><td>5457928</td></tr>\n",
       "\t<tr><td>Theft from Vehicle</td><td>2022</td><td>10</td><td> 9</td><td> 2</td><td> 0</td><td>11XX ROSSLAND ST</td><td>Hastings-Sunrise</td><td>496691.3</td><td>5457991</td></tr>\n",
       "\t<tr><td>Theft from Vehicle</td><td>2022</td><td> 4</td><td>28</td><td>17</td><td> 0</td><td>12XX LILLOOET ST</td><td>Hastings-Sunrise</td><td>497174.1</td><td>5457852</td></tr>\n",
       "\t<tr><td>Theft from Vehicle</td><td>2022</td><td> 4</td><td>17</td><td> 5</td><td>17</td><td>12XX ROSSLAND ST</td><td>Hastings-Sunrise</td><td>496689.9</td><td>5457876</td></tr>\n",
       "\t<tr><td>Theft from Vehicle</td><td>2022</td><td>11</td><td> 8</td><td>22</td><td> 0</td><td>12XX SKEENA ST  </td><td>Hastings-Sunrise</td><td>497929.5</td><td>5457926</td></tr>\n",
       "\t<tr><td>Theft from Vehicle</td><td>2022</td><td> 8</td><td>18</td><td>20</td><td>46</td><td>13XX KAMLOOPS ST</td><td>Hastings-Sunrise</td><td>496017.2</td><td>5457788</td></tr>\n",
       "</tbody>\n",
       "</table>\n"
      ],
      "text/latex": [
       "A tibble: 6 × 10\n",
       "\\begin{tabular}{llllllllll}\n",
       " TYPE & YEAR & MONTH & DAY & HOUR & MINUTE & HUNDRED\\_BLOCK & NEIGHBOURHOOD & X & Y\\\\\n",
       " <chr> & <dbl> & <dbl> & <dbl> & <dbl> & <dbl> & <chr> & <chr> & <dbl> & <dbl>\\\\\n",
       "\\hline\n",
       "\t Theft from Vehicle & 2022 &  5 & 16 &  4 & 20 & 11XX NOOTKA ST   & Hastings-Sunrise & 496992.1 & 5457928\\\\\n",
       "\t Theft from Vehicle & 2022 & 10 &  9 &  2 &  0 & 11XX ROSSLAND ST & Hastings-Sunrise & 496691.3 & 5457991\\\\\n",
       "\t Theft from Vehicle & 2022 &  4 & 28 & 17 &  0 & 12XX LILLOOET ST & Hastings-Sunrise & 497174.1 & 5457852\\\\\n",
       "\t Theft from Vehicle & 2022 &  4 & 17 &  5 & 17 & 12XX ROSSLAND ST & Hastings-Sunrise & 496689.9 & 5457876\\\\\n",
       "\t Theft from Vehicle & 2022 & 11 &  8 & 22 &  0 & 12XX SKEENA ST   & Hastings-Sunrise & 497929.5 & 5457926\\\\\n",
       "\t Theft from Vehicle & 2022 &  8 & 18 & 20 & 46 & 13XX KAMLOOPS ST & Hastings-Sunrise & 496017.2 & 5457788\\\\\n",
       "\\end{tabular}\n"
      ],
      "text/markdown": [
       "\n",
       "A tibble: 6 × 10\n",
       "\n",
       "| TYPE &lt;chr&gt; | YEAR &lt;dbl&gt; | MONTH &lt;dbl&gt; | DAY &lt;dbl&gt; | HOUR &lt;dbl&gt; | MINUTE &lt;dbl&gt; | HUNDRED_BLOCK &lt;chr&gt; | NEIGHBOURHOOD &lt;chr&gt; | X &lt;dbl&gt; | Y &lt;dbl&gt; |\n",
       "|---|---|---|---|---|---|---|---|---|---|\n",
       "| Theft from Vehicle | 2022 |  5 | 16 |  4 | 20 | 11XX NOOTKA ST   | Hastings-Sunrise | 496992.1 | 5457928 |\n",
       "| Theft from Vehicle | 2022 | 10 |  9 |  2 |  0 | 11XX ROSSLAND ST | Hastings-Sunrise | 496691.3 | 5457991 |\n",
       "| Theft from Vehicle | 2022 |  4 | 28 | 17 |  0 | 12XX LILLOOET ST | Hastings-Sunrise | 497174.1 | 5457852 |\n",
       "| Theft from Vehicle | 2022 |  4 | 17 |  5 | 17 | 12XX ROSSLAND ST | Hastings-Sunrise | 496689.9 | 5457876 |\n",
       "| Theft from Vehicle | 2022 | 11 |  8 | 22 |  0 | 12XX SKEENA ST   | Hastings-Sunrise | 497929.5 | 5457926 |\n",
       "| Theft from Vehicle | 2022 |  8 | 18 | 20 | 46 | 13XX KAMLOOPS ST | Hastings-Sunrise | 496017.2 | 5457788 |\n",
       "\n"
      ],
      "text/plain": [
       "  TYPE               YEAR MONTH DAY HOUR MINUTE HUNDRED_BLOCK   \n",
       "1 Theft from Vehicle 2022  5    16   4   20     11XX NOOTKA ST  \n",
       "2 Theft from Vehicle 2022 10     9   2    0     11XX ROSSLAND ST\n",
       "3 Theft from Vehicle 2022  4    28  17    0     12XX LILLOOET ST\n",
       "4 Theft from Vehicle 2022  4    17   5   17     12XX ROSSLAND ST\n",
       "5 Theft from Vehicle 2022 11     8  22    0     12XX SKEENA ST  \n",
       "6 Theft from Vehicle 2022  8    18  20   46     13XX KAMLOOPS ST\n",
       "  NEIGHBOURHOOD    X        Y      \n",
       "1 Hastings-Sunrise 496992.1 5457928\n",
       "2 Hastings-Sunrise 496691.3 5457991\n",
       "3 Hastings-Sunrise 497174.1 5457852\n",
       "4 Hastings-Sunrise 496689.9 5457876\n",
       "5 Hastings-Sunrise 497929.5 5457926\n",
       "6 Hastings-Sunrise 496017.2 5457788"
      ]
     },
     "metadata": {},
     "output_type": "display_data"
    },
    {
     "data": {
      "text/html": [
       "<table class=\"dataframe\">\n",
       "<caption>A tibble: 6 × 10</caption>\n",
       "<thead>\n",
       "\t<tr><th scope=col>TYPE</th><th scope=col>YEAR</th><th scope=col>MONTH</th><th scope=col>DAY</th><th scope=col>HOUR</th><th scope=col>MINUTE</th><th scope=col>HUNDRED_BLOCK</th><th scope=col>NEIGHBOURHOOD</th><th scope=col>X</th><th scope=col>Y</th></tr>\n",
       "\t<tr><th scope=col>&lt;chr&gt;</th><th scope=col>&lt;dbl&gt;</th><th scope=col>&lt;dbl&gt;</th><th scope=col>&lt;dbl&gt;</th><th scope=col>&lt;dbl&gt;</th><th scope=col>&lt;dbl&gt;</th><th scope=col>&lt;chr&gt;</th><th scope=col>&lt;chr&gt;</th><th scope=col>&lt;dbl&gt;</th><th scope=col>&lt;dbl&gt;</th></tr>\n",
       "</thead>\n",
       "<tbody>\n",
       "\t<tr><td>Theft from Vehicle</td><td>2022</td><td>12</td><td>17</td><td>18</td><td> 0</td><td>19XX WALLACE ST   </td><td>West Point Grey</td><td>486137.9</td><td>5457440</td></tr>\n",
       "\t<tr><td>Theft from Vehicle</td><td>2022</td><td> 8</td><td>17</td><td>15</td><td> 0</td><td>24XX CROWN ST     </td><td>West Point Grey</td><td>485764.6</td><td>5456934</td></tr>\n",
       "\t<tr><td>Theft from Vehicle</td><td>2022</td><td>10</td><td>29</td><td>20</td><td>10</td><td>25XX CAMOSUN ST   </td><td>West Point Grey</td><td>485676.0</td><td>5456835</td></tr>\n",
       "\t<tr><td>Theft from Vehicle</td><td>2022</td><td> 7</td><td>18</td><td> 5</td><td>30</td><td>37XX W 1ST AVE    </td><td>West Point Grey</td><td>486405.9</td><td>5457641</td></tr>\n",
       "\t<tr><td>Theft from Vehicle</td><td>2022</td><td> 4</td><td> 3</td><td> 0</td><td> 0</td><td>37XX W 2ND AVE    </td><td>West Point Grey</td><td>486435.2</td><td>5457538</td></tr>\n",
       "\t<tr><td>Theft from Vehicle</td><td>2022</td><td> 8</td><td> 1</td><td> 0</td><td> 0</td><td>38XX POINT GREY RD</td><td>West Point Grey</td><td>486325.2</td><td>5457730</td></tr>\n",
       "</tbody>\n",
       "</table>\n"
      ],
      "text/latex": [
       "A tibble: 6 × 10\n",
       "\\begin{tabular}{llllllllll}\n",
       " TYPE & YEAR & MONTH & DAY & HOUR & MINUTE & HUNDRED\\_BLOCK & NEIGHBOURHOOD & X & Y\\\\\n",
       " <chr> & <dbl> & <dbl> & <dbl> & <dbl> & <dbl> & <chr> & <chr> & <dbl> & <dbl>\\\\\n",
       "\\hline\n",
       "\t Theft from Vehicle & 2022 & 12 & 17 & 18 &  0 & 19XX WALLACE ST    & West Point Grey & 486137.9 & 5457440\\\\\n",
       "\t Theft from Vehicle & 2022 &  8 & 17 & 15 &  0 & 24XX CROWN ST      & West Point Grey & 485764.6 & 5456934\\\\\n",
       "\t Theft from Vehicle & 2022 & 10 & 29 & 20 & 10 & 25XX CAMOSUN ST    & West Point Grey & 485676.0 & 5456835\\\\\n",
       "\t Theft from Vehicle & 2022 &  7 & 18 &  5 & 30 & 37XX W 1ST AVE     & West Point Grey & 486405.9 & 5457641\\\\\n",
       "\t Theft from Vehicle & 2022 &  4 &  3 &  0 &  0 & 37XX W 2ND AVE     & West Point Grey & 486435.2 & 5457538\\\\\n",
       "\t Theft from Vehicle & 2022 &  8 &  1 &  0 &  0 & 38XX POINT GREY RD & West Point Grey & 486325.2 & 5457730\\\\\n",
       "\\end{tabular}\n"
      ],
      "text/markdown": [
       "\n",
       "A tibble: 6 × 10\n",
       "\n",
       "| TYPE &lt;chr&gt; | YEAR &lt;dbl&gt; | MONTH &lt;dbl&gt; | DAY &lt;dbl&gt; | HOUR &lt;dbl&gt; | MINUTE &lt;dbl&gt; | HUNDRED_BLOCK &lt;chr&gt; | NEIGHBOURHOOD &lt;chr&gt; | X &lt;dbl&gt; | Y &lt;dbl&gt; |\n",
       "|---|---|---|---|---|---|---|---|---|---|\n",
       "| Theft from Vehicle | 2022 | 12 | 17 | 18 |  0 | 19XX WALLACE ST    | West Point Grey | 486137.9 | 5457440 |\n",
       "| Theft from Vehicle | 2022 |  8 | 17 | 15 |  0 | 24XX CROWN ST      | West Point Grey | 485764.6 | 5456934 |\n",
       "| Theft from Vehicle | 2022 | 10 | 29 | 20 | 10 | 25XX CAMOSUN ST    | West Point Grey | 485676.0 | 5456835 |\n",
       "| Theft from Vehicle | 2022 |  7 | 18 |  5 | 30 | 37XX W 1ST AVE     | West Point Grey | 486405.9 | 5457641 |\n",
       "| Theft from Vehicle | 2022 |  4 |  3 |  0 |  0 | 37XX W 2ND AVE     | West Point Grey | 486435.2 | 5457538 |\n",
       "| Theft from Vehicle | 2022 |  8 |  1 |  0 |  0 | 38XX POINT GREY RD | West Point Grey | 486325.2 | 5457730 |\n",
       "\n"
      ],
      "text/plain": [
       "  TYPE               YEAR MONTH DAY HOUR MINUTE HUNDRED_BLOCK     \n",
       "1 Theft from Vehicle 2022 12    17  18    0     19XX WALLACE ST   \n",
       "2 Theft from Vehicle 2022  8    17  15    0     24XX CROWN ST     \n",
       "3 Theft from Vehicle 2022 10    29  20   10     25XX CAMOSUN ST   \n",
       "4 Theft from Vehicle 2022  7    18   5   30     37XX W 1ST AVE    \n",
       "5 Theft from Vehicle 2022  4     3   0    0     37XX W 2ND AVE    \n",
       "6 Theft from Vehicle 2022  8     1   0    0     38XX POINT GREY RD\n",
       "  NEIGHBOURHOOD   X        Y      \n",
       "1 West Point Grey 486137.9 5457440\n",
       "2 West Point Grey 485764.6 5456934\n",
       "3 West Point Grey 485676.0 5456835\n",
       "4 West Point Grey 486405.9 5457641\n",
       "5 West Point Grey 486435.2 5457538\n",
       "6 West Point Grey 486325.2 5457730"
      ]
     },
     "metadata": {},
     "output_type": "display_data"
    },
    {
     "data": {
      "text/html": [
       "<table class=\"dataframe\">\n",
       "<caption>A tibble: 6 × 10</caption>\n",
       "<thead>\n",
       "\t<tr><th scope=col>TYPE</th><th scope=col>YEAR</th><th scope=col>MONTH</th><th scope=col>DAY</th><th scope=col>HOUR</th><th scope=col>MINUTE</th><th scope=col>HUNDRED_BLOCK</th><th scope=col>NEIGHBOURHOOD</th><th scope=col>X</th><th scope=col>Y</th></tr>\n",
       "\t<tr><th scope=col>&lt;chr&gt;</th><th scope=col>&lt;dbl&gt;</th><th scope=col>&lt;dbl&gt;</th><th scope=col>&lt;dbl&gt;</th><th scope=col>&lt;dbl&gt;</th><th scope=col>&lt;dbl&gt;</th><th scope=col>&lt;chr&gt;</th><th scope=col>&lt;chr&gt;</th><th scope=col>&lt;dbl&gt;</th><th scope=col>&lt;dbl&gt;</th></tr>\n",
       "</thead>\n",
       "<tbody>\n",
       "\t<tr><td>Theft from Vehicle</td><td>2023</td><td>1</td><td> 4</td><td>18</td><td> 0</td><td>19XX SASAMAT ST </td><td>West Point Grey</td><td>484807.4</td><td>5457443</td></tr>\n",
       "\t<tr><td>Theft from Vehicle</td><td>2023</td><td>5</td><td>10</td><td>12</td><td> 0</td><td>19XX WALLACE ST </td><td>West Point Grey</td><td>486137.8</td><td>5457437</td></tr>\n",
       "\t<tr><td>Theft from Vehicle</td><td>2023</td><td>2</td><td>20</td><td>23</td><td> 0</td><td>20XX ALMA ST    </td><td>West Point Grey</td><td>486484.4</td><td>5457255</td></tr>\n",
       "\t<tr><td>Theft from Vehicle</td><td>2023</td><td>7</td><td>18</td><td> 2</td><td>30</td><td>20XX HIGHBURY ST</td><td>West Point Grey</td><td>486354.0</td><td>5457305</td></tr>\n",
       "\t<tr><td>Theft from Vehicle</td><td>2023</td><td>3</td><td> 3</td><td> 1</td><td> 0</td><td>26XX CROWN ST   </td><td>West Point Grey</td><td>485894.7</td><td>5456706</td></tr>\n",
       "\t<tr><td>Theft from Vehicle</td><td>2023</td><td>2</td><td> 3</td><td>21</td><td> 0</td><td>28XX CROWN ST   </td><td>West Point Grey</td><td>485890.7</td><td>5456574</td></tr>\n",
       "</tbody>\n",
       "</table>\n"
      ],
      "text/latex": [
       "A tibble: 6 × 10\n",
       "\\begin{tabular}{llllllllll}\n",
       " TYPE & YEAR & MONTH & DAY & HOUR & MINUTE & HUNDRED\\_BLOCK & NEIGHBOURHOOD & X & Y\\\\\n",
       " <chr> & <dbl> & <dbl> & <dbl> & <dbl> & <dbl> & <chr> & <chr> & <dbl> & <dbl>\\\\\n",
       "\\hline\n",
       "\t Theft from Vehicle & 2023 & 1 &  4 & 18 &  0 & 19XX SASAMAT ST  & West Point Grey & 484807.4 & 5457443\\\\\n",
       "\t Theft from Vehicle & 2023 & 5 & 10 & 12 &  0 & 19XX WALLACE ST  & West Point Grey & 486137.8 & 5457437\\\\\n",
       "\t Theft from Vehicle & 2023 & 2 & 20 & 23 &  0 & 20XX ALMA ST     & West Point Grey & 486484.4 & 5457255\\\\\n",
       "\t Theft from Vehicle & 2023 & 7 & 18 &  2 & 30 & 20XX HIGHBURY ST & West Point Grey & 486354.0 & 5457305\\\\\n",
       "\t Theft from Vehicle & 2023 & 3 &  3 &  1 &  0 & 26XX CROWN ST    & West Point Grey & 485894.7 & 5456706\\\\\n",
       "\t Theft from Vehicle & 2023 & 2 &  3 & 21 &  0 & 28XX CROWN ST    & West Point Grey & 485890.7 & 5456574\\\\\n",
       "\\end{tabular}\n"
      ],
      "text/markdown": [
       "\n",
       "A tibble: 6 × 10\n",
       "\n",
       "| TYPE &lt;chr&gt; | YEAR &lt;dbl&gt; | MONTH &lt;dbl&gt; | DAY &lt;dbl&gt; | HOUR &lt;dbl&gt; | MINUTE &lt;dbl&gt; | HUNDRED_BLOCK &lt;chr&gt; | NEIGHBOURHOOD &lt;chr&gt; | X &lt;dbl&gt; | Y &lt;dbl&gt; |\n",
       "|---|---|---|---|---|---|---|---|---|---|\n",
       "| Theft from Vehicle | 2023 | 1 |  4 | 18 |  0 | 19XX SASAMAT ST  | West Point Grey | 484807.4 | 5457443 |\n",
       "| Theft from Vehicle | 2023 | 5 | 10 | 12 |  0 | 19XX WALLACE ST  | West Point Grey | 486137.8 | 5457437 |\n",
       "| Theft from Vehicle | 2023 | 2 | 20 | 23 |  0 | 20XX ALMA ST     | West Point Grey | 486484.4 | 5457255 |\n",
       "| Theft from Vehicle | 2023 | 7 | 18 |  2 | 30 | 20XX HIGHBURY ST | West Point Grey | 486354.0 | 5457305 |\n",
       "| Theft from Vehicle | 2023 | 3 |  3 |  1 |  0 | 26XX CROWN ST    | West Point Grey | 485894.7 | 5456706 |\n",
       "| Theft from Vehicle | 2023 | 2 |  3 | 21 |  0 | 28XX CROWN ST    | West Point Grey | 485890.7 | 5456574 |\n",
       "\n"
      ],
      "text/plain": [
       "  TYPE               YEAR MONTH DAY HOUR MINUTE HUNDRED_BLOCK   \n",
       "1 Theft from Vehicle 2023 1      4  18    0     19XX SASAMAT ST \n",
       "2 Theft from Vehicle 2023 5     10  12    0     19XX WALLACE ST \n",
       "3 Theft from Vehicle 2023 2     20  23    0     20XX ALMA ST    \n",
       "4 Theft from Vehicle 2023 7     18   2   30     20XX HIGHBURY ST\n",
       "5 Theft from Vehicle 2023 3      3   1    0     26XX CROWN ST   \n",
       "6 Theft from Vehicle 2023 2      3  21    0     28XX CROWN ST   \n",
       "  NEIGHBOURHOOD   X        Y      \n",
       "1 West Point Grey 484807.4 5457443\n",
       "2 West Point Grey 486137.8 5457437\n",
       "3 West Point Grey 486484.4 5457255\n",
       "4 West Point Grey 486354.0 5457305\n",
       "5 West Point Grey 485894.7 5456706\n",
       "6 West Point Grey 485890.7 5456574"
      ]
     },
     "metadata": {},
     "output_type": "display_data"
    }
   ],
   "source": [
    "head(hastings_2023)\n",
    "head(hastings_2022)\n",
    "head(west_point_grey_2022)\n",
    "head(west_point_grey_2023)"
   ]
  },
  {
   "cell_type": "markdown",
   "id": "8659ce67-21c9-4601-a44d-5023b943ddc4",
   "metadata": {},
   "source": [
    "## Data cleaning and wrangling"
   ]
  },
  {
   "cell_type": "code",
   "execution_count": null,
   "id": "23728c15-a552-441f-b14e-bf16680d0d2d",
   "metadata": {},
   "outputs": [],
   "source": []
  },
  {
   "cell_type": "markdown",
   "id": "5a034179-d962-4898-bd06-b8cc7b5be2c2",
   "metadata": {},
   "source": [
    "## Plots"
   ]
  },
  {
   "cell_type": "code",
   "execution_count": null,
   "id": "9a0ee47c-01f9-428b-a756-3d5a77bf95fc",
   "metadata": {},
   "outputs": [],
   "source": []
  },
  {
   "cell_type": "markdown",
   "id": "c114b861-a7b6-44c8-a5c1-a348be9dec86",
   "metadata": {},
   "source": [
    "## Compute estimates of the parameter you identified across your groups. Present this in a table. If relevant, include these estimates in your plot."
   ]
  },
  {
   "cell_type": "code",
   "execution_count": null,
   "id": "05a63508-08e2-4bb5-8637-5ed23492d43d",
   "metadata": {},
   "outputs": [],
   "source": []
  },
  {
   "cell_type": "markdown",
   "id": "792bddc2-5c42-450f-b868-41c9c0839296",
   "metadata": {},
   "source": [
    "# Methods: Plan"
   ]
  },
  {
   "cell_type": "markdown",
   "id": "5449ff0e-5665-4bf8-be57-c358d8d21f6e",
   "metadata": {},
   "source": [
    "### What do you expect to find?\n",
    "\n"
   ]
  },
  {
   "cell_type": "markdown",
   "id": "8e4b62b9-1a0b-4b1a-8e5c-ad337b56a65b",
   "metadata": {},
   "source": []
  },
  {
   "cell_type": "markdown",
   "id": "5d5a4961-2d5a-4282-95cd-6c0fabf26b1e",
   "metadata": {},
   "source": [
    "### What future questions could this lead to?"
   ]
  },
  {
   "cell_type": "markdown",
   "id": "36d6bb17-ef3e-4c28-967c-62eef4fbe444",
   "metadata": {},
   "source": []
  },
  {
   "cell_type": "markdown",
   "id": "840ced69-31de-4f38-8734-0b40c671756a",
   "metadata": {},
   "source": [
    "### What impact could such findings have?"
   ]
  },
  {
   "cell_type": "markdown",
   "id": "de5be419-d08a-4f50-b439-c269218bb2fe",
   "metadata": {},
   "source": []
  },
  {
   "cell_type": "markdown",
   "id": "61800cca-bdda-4ea9-b8fa-3fc034871606",
   "metadata": {},
   "source": [
    "# References"
   ]
  },
  {
   "cell_type": "markdown",
   "id": "0fa94357-bfe0-4925-b95f-3b05f10519cd",
   "metadata": {},
   "source": []
  },
  {
   "cell_type": "code",
   "execution_count": null,
   "id": "05e2d63d-ea32-4332-ba2c-de70e9156964",
   "metadata": {},
   "outputs": [],
   "source": []
  }
 ],
 "metadata": {
  "kernelspec": {
   "display_name": "R",
   "language": "R",
   "name": "ir"
  },
  "language_info": {
   "codemirror_mode": "r",
   "file_extension": ".r",
   "mimetype": "text/x-r-source",
   "name": "R",
   "pygments_lexer": "r",
   "version": "4.1.3"
  }
 },
 "nbformat": 4,
 "nbformat_minor": 5
}
